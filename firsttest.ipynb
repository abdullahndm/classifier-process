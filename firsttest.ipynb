{
  "nbformat": 4,
  "nbformat_minor": 0,
  "metadata": {
    "colab": {
      "name": "Untitled39.ipynb",
      "provenance": [],
      "include_colab_link": true
    },
    "kernelspec": {
      "name": "python3",
      "display_name": "Python 3"
    },
    "language_info": {
      "name": "python"
    }
  },
  "cells": [
    {
      "cell_type": "markdown",
      "metadata": {
        "id": "view-in-github",
        "colab_type": "text"
      },
      "source": [
        "<a href=\"https://colab.research.google.com/github/abdullahndm/classifier-process/blob/main/firsttest.ipynb\" target=\"_parent\"><img src=\"https://colab.research.google.com/assets/colab-badge.svg\" alt=\"Open In Colab\"/></a>"
      ]
    },
    {
      "cell_type": "code",
      "execution_count": 42,
      "metadata": {
        "id": "-Guq0HVjWHm8"
      },
      "outputs": [],
      "source": [
        "import pandas as pd\n",
        "import numpy as np\n",
        "import seaborn as sns\n",
        "import matplotlib.pyplot as plt"
      ]
    },
    {
      "cell_type": "code",
      "source": [
        "from sklearn.model_selection import train_test_split\n",
        "from sklearn.metrics import classification_report, confusion_matrix, accuracy_score\n",
        "from sklearn.feature_extraction.text import CountVectorizer\n",
        "from sklearn.feature_extraction import DictVectorizer"
      ],
      "metadata": {
        "id": "xeLxpOCYBET9"
      },
      "execution_count": 43,
      "outputs": []
    },
    {
      "cell_type": "code",
      "source": [
        "from google.colab import drive\n",
        "drive.mount ('/content/drive')"
      ],
      "metadata": {
        "colab": {
          "base_uri": "https://localhost:8080/"
        },
        "id": "qYXwUWAXBEYu",
        "outputId": "9a766c30-455f-4c35-da70-0789fff65b05"
      },
      "execution_count": 4,
      "outputs": [
        {
          "output_type": "stream",
          "name": "stdout",
          "text": [
            "Mounted at /content/drive\n"
          ]
        }
      ]
    },
    {
      "cell_type": "code",
      "source": [
        "liat = pd.read_csv('/content/drive/MyDrive/dataset/dataset1.csv')\n",
        "liat"
      ],
      "metadata": {
        "id": "hOv8CjyGBEdv"
      },
      "execution_count": null,
      "outputs": []
    },
    {
      "cell_type": "code",
      "source": [
        "liat = liat.drop(range(14,17))\n",
        "liat"
      ],
      "metadata": {
        "colab": {
          "base_uri": "https://localhost:8080/",
          "height": 869
        },
        "id": "NoSOcDmTBEhw",
        "outputId": "bf1f7271-7a45-4188-a3b0-d0e4a214896b"
      },
      "execution_count": 12,
      "outputs": [
        {
          "output_type": "execute_result",
          "data": {
            "text/plain": [
              "            Nama PTTA Posisi            Kemiringan      Bentuk  \\\n",
              "0       BTT-3 Banshee  bawah               positif       delta   \n",
              "1              Brevel  bawah               positif       lurus   \n",
              "2          Crecerelle  bawah               positif       delta   \n",
              "3             D-4 NPU   atas               positif       lurus   \n",
              "4    Model 324 Scarab  bawah  tidak ada kemiringan  kebelakang   \n",
              "5           Model 410   atas  tidak ada kemiringan       lurus   \n",
              "6           Mirach 26   atas  tidak ada kemiringan       lurus   \n",
              "7   Mirach 100 Meteor  bawah  tidak ada kemiringan  semi delta   \n",
              "8        MQ-5B Hunter   atas  tidak ada kemiringan       lurus   \n",
              "9     MQ-8 Fire Scout   atas  tidak ada kemiringan       lurus   \n",
              "10       RQ-2 Pioneer   atas  tidak ada kemiringan       lurus   \n",
              "11  RQ-4B Global Hawk  bawah               positif  kebelakang   \n",
              "12       RQ-7B Shadow   atas  tidak ada kemiringan       lurus   \n",
              "13    RQ-170 Sentinel  bawah  tidak ada kemiringan  kebelakang   \n",
              "17    SHMEL-1 YAK 061   atas               negatif       lurus   \n",
              "18        MQ-9 Reaper  bawah               positif       lurus   \n",
              "19      MQ-1 Predator  bawah               positif       lurus   \n",
              "\n",
              "                     Arah          Jenis Jumlah Bentuk.1   Hidung    Tengah  \\\n",
              "0       lancip kebelakang  baling-baling   satu    bulat  runcing    tabung   \n",
              "1       lancip kebelakang         piston   satu    bulat    bulat    tabung   \n",
              "2       lancip kebelakang  baling-baling    dua    bulat  runcing    tabung   \n",
              "3             lancip rata  baling-baling   satu    bulat  runcing    tabung   \n",
              "4   kebelakang dan lancip          turbo   satu    tebal  runcing  menonjol   \n",
              "5             lancip rata          turbo   satu    kotak  runcing    tabung   \n",
              "6             lancip rata         piston   satu    bulat    bulat  menonjol   \n",
              "7       lancip kebelakang            jet   satu    bulat  runcing    tabung   \n",
              "8             lancip rata  baling-baling    dua    bulat    bulat  menonjol   \n",
              "9       lancip tidak rata  baling-baling    dua  ramping    bulat  menonjol   \n",
              "10      lancip tidak rata  baling-baling   satu    bulat  runcing  menonjol   \n",
              "11      lancip kebelakang          turbo   satu    tebal    bulat  menonjol   \n",
              "12      lancip tidak rata  baling-baling   satu    kotak  runcing  menonjol   \n",
              "13  kebelakang dan lancip          turbo   satu    tebal  runcing  menonjol   \n",
              "17      lancip tidak rata  baling-baling   satu    bulat    bulat    tabung   \n",
              "18            lancip rata  baling-baling   satu    bulat    bulat  menonjol   \n",
              "19            lancip rata  baling-baling   satu    bulat    bulat  menonjol   \n",
              "\n",
              "            Posisi.1 Jumlah.1                              Bentuk.2  \\\n",
              "0          tidak ada  tunggal           kebelakang dan ujung tumpul   \n",
              "1          tidak ada  tunggal           kebelakang dan ujung tumpul   \n",
              "2          tidak ada  tunggal           kebelakang dan ujung tumpul   \n",
              "3       diatas badan  tunggal           lancip rata dan ujung kotak   \n",
              "4      dibawah badan    ganda  meruncing kebelakang dan ujung kotak   \n",
              "5       diatas badan    ganda  meruncing kebelakang dan ujung kotak   \n",
              "6       diatas badan    ganda  meruncing kebelakang dan ujung kotak   \n",
              "7   posisi tidak ada  tunggal  meruncing kebelakang dan ujung kotak   \n",
              "8       diatas badan    ganda           kebelakang dan ujung tumpul   \n",
              "9       diatas badan  tunggal  meruncing kebelakang dan ujung kotak   \n",
              "10      diatas badan    ganda           lancip rata dan ujung kotak   \n",
              "11    ditengah badan    empat  meruncing kebelakang dan ujung kotak   \n",
              "12      diatas badan    ganda                       sirip tidak ada   \n",
              "13  posisi tidak ada  tunggal                             tidak ada   \n",
              "17    ditengah badan     tiga                                 bulat   \n",
              "18     dibawah badan    ganda  meruncing kebelakang dan ujung kotak   \n",
              "19     dibawah badan     tiga                       sirip tidak ada   \n",
              "\n",
              "        Persenjataan        Bahaya  \n",
              "0   tidak bersenjata  tidak bahaya  \n",
              "1   tidak bersenjata  tidak bahaya  \n",
              "2   tidak bersenjata  tidak bahaya  \n",
              "3   tidak bersenjata  tidak bahaya  \n",
              "4   tidak bersenjata  tidak bahaya  \n",
              "5   tidak bersenjata  tidak bahaya  \n",
              "6   tidak bersenjata  tidak bahaya  \n",
              "7   tidak bersenjata  tidak bahaya  \n",
              "8   tidak bersenjata  tidak bahaya  \n",
              "9   tidak bersenjata  tidak bahaya  \n",
              "10  tidak bersenjata  tidak bahaya  \n",
              "11  tidak bersenjata  tidak bahaya  \n",
              "12  tidak bersenjata  tidak bahaya  \n",
              "13  tidak bersenjata  tidak bahaya  \n",
              "17  tidak bersenjata  tidak bahaya  \n",
              "18        bersenjata        bahaya  \n",
              "19        bersenjata        bahaya  "
            ],
            "text/html": [
              "\n",
              "  <div id=\"df-c964f635-e8cd-4919-9ad9-fd1c0baea2c3\">\n",
              "    <div class=\"colab-df-container\">\n",
              "      <div>\n",
              "<style scoped>\n",
              "    .dataframe tbody tr th:only-of-type {\n",
              "        vertical-align: middle;\n",
              "    }\n",
              "\n",
              "    .dataframe tbody tr th {\n",
              "        vertical-align: top;\n",
              "    }\n",
              "\n",
              "    .dataframe thead th {\n",
              "        text-align: right;\n",
              "    }\n",
              "</style>\n",
              "<table border=\"1\" class=\"dataframe\">\n",
              "  <thead>\n",
              "    <tr style=\"text-align: right;\">\n",
              "      <th></th>\n",
              "      <th>Nama PTTA</th>\n",
              "      <th>Posisi</th>\n",
              "      <th>Kemiringan</th>\n",
              "      <th>Bentuk</th>\n",
              "      <th>Arah</th>\n",
              "      <th>Jenis</th>\n",
              "      <th>Jumlah</th>\n",
              "      <th>Bentuk.1</th>\n",
              "      <th>Hidung</th>\n",
              "      <th>Tengah</th>\n",
              "      <th>Posisi.1</th>\n",
              "      <th>Jumlah.1</th>\n",
              "      <th>Bentuk.2</th>\n",
              "      <th>Persenjataan</th>\n",
              "      <th>Bahaya</th>\n",
              "    </tr>\n",
              "  </thead>\n",
              "  <tbody>\n",
              "    <tr>\n",
              "      <th>0</th>\n",
              "      <td>BTT-3 Banshee</td>\n",
              "      <td>bawah</td>\n",
              "      <td>positif</td>\n",
              "      <td>delta</td>\n",
              "      <td>lancip kebelakang</td>\n",
              "      <td>baling-baling</td>\n",
              "      <td>satu</td>\n",
              "      <td>bulat</td>\n",
              "      <td>runcing</td>\n",
              "      <td>tabung</td>\n",
              "      <td>tidak ada</td>\n",
              "      <td>tunggal</td>\n",
              "      <td>kebelakang dan ujung tumpul</td>\n",
              "      <td>tidak bersenjata</td>\n",
              "      <td>tidak bahaya</td>\n",
              "    </tr>\n",
              "    <tr>\n",
              "      <th>1</th>\n",
              "      <td>Brevel</td>\n",
              "      <td>bawah</td>\n",
              "      <td>positif</td>\n",
              "      <td>lurus</td>\n",
              "      <td>lancip kebelakang</td>\n",
              "      <td>piston</td>\n",
              "      <td>satu</td>\n",
              "      <td>bulat</td>\n",
              "      <td>bulat</td>\n",
              "      <td>tabung</td>\n",
              "      <td>tidak ada</td>\n",
              "      <td>tunggal</td>\n",
              "      <td>kebelakang dan ujung tumpul</td>\n",
              "      <td>tidak bersenjata</td>\n",
              "      <td>tidak bahaya</td>\n",
              "    </tr>\n",
              "    <tr>\n",
              "      <th>2</th>\n",
              "      <td>Crecerelle</td>\n",
              "      <td>bawah</td>\n",
              "      <td>positif</td>\n",
              "      <td>delta</td>\n",
              "      <td>lancip kebelakang</td>\n",
              "      <td>baling-baling</td>\n",
              "      <td>dua</td>\n",
              "      <td>bulat</td>\n",
              "      <td>runcing</td>\n",
              "      <td>tabung</td>\n",
              "      <td>tidak ada</td>\n",
              "      <td>tunggal</td>\n",
              "      <td>kebelakang dan ujung tumpul</td>\n",
              "      <td>tidak bersenjata</td>\n",
              "      <td>tidak bahaya</td>\n",
              "    </tr>\n",
              "    <tr>\n",
              "      <th>3</th>\n",
              "      <td>D-4 NPU</td>\n",
              "      <td>atas</td>\n",
              "      <td>positif</td>\n",
              "      <td>lurus</td>\n",
              "      <td>lancip rata</td>\n",
              "      <td>baling-baling</td>\n",
              "      <td>satu</td>\n",
              "      <td>bulat</td>\n",
              "      <td>runcing</td>\n",
              "      <td>tabung</td>\n",
              "      <td>diatas badan</td>\n",
              "      <td>tunggal</td>\n",
              "      <td>lancip rata dan ujung kotak</td>\n",
              "      <td>tidak bersenjata</td>\n",
              "      <td>tidak bahaya</td>\n",
              "    </tr>\n",
              "    <tr>\n",
              "      <th>4</th>\n",
              "      <td>Model 324 Scarab</td>\n",
              "      <td>bawah</td>\n",
              "      <td>tidak ada kemiringan</td>\n",
              "      <td>kebelakang</td>\n",
              "      <td>kebelakang dan lancip</td>\n",
              "      <td>turbo</td>\n",
              "      <td>satu</td>\n",
              "      <td>tebal</td>\n",
              "      <td>runcing</td>\n",
              "      <td>menonjol</td>\n",
              "      <td>dibawah badan</td>\n",
              "      <td>ganda</td>\n",
              "      <td>meruncing kebelakang dan ujung kotak</td>\n",
              "      <td>tidak bersenjata</td>\n",
              "      <td>tidak bahaya</td>\n",
              "    </tr>\n",
              "    <tr>\n",
              "      <th>5</th>\n",
              "      <td>Model 410</td>\n",
              "      <td>atas</td>\n",
              "      <td>tidak ada kemiringan</td>\n",
              "      <td>lurus</td>\n",
              "      <td>lancip rata</td>\n",
              "      <td>turbo</td>\n",
              "      <td>satu</td>\n",
              "      <td>kotak</td>\n",
              "      <td>runcing</td>\n",
              "      <td>tabung</td>\n",
              "      <td>diatas badan</td>\n",
              "      <td>ganda</td>\n",
              "      <td>meruncing kebelakang dan ujung kotak</td>\n",
              "      <td>tidak bersenjata</td>\n",
              "      <td>tidak bahaya</td>\n",
              "    </tr>\n",
              "    <tr>\n",
              "      <th>6</th>\n",
              "      <td>Mirach 26</td>\n",
              "      <td>atas</td>\n",
              "      <td>tidak ada kemiringan</td>\n",
              "      <td>lurus</td>\n",
              "      <td>lancip rata</td>\n",
              "      <td>piston</td>\n",
              "      <td>satu</td>\n",
              "      <td>bulat</td>\n",
              "      <td>bulat</td>\n",
              "      <td>menonjol</td>\n",
              "      <td>diatas badan</td>\n",
              "      <td>ganda</td>\n",
              "      <td>meruncing kebelakang dan ujung kotak</td>\n",
              "      <td>tidak bersenjata</td>\n",
              "      <td>tidak bahaya</td>\n",
              "    </tr>\n",
              "    <tr>\n",
              "      <th>7</th>\n",
              "      <td>Mirach 100 Meteor</td>\n",
              "      <td>bawah</td>\n",
              "      <td>tidak ada kemiringan</td>\n",
              "      <td>semi delta</td>\n",
              "      <td>lancip kebelakang</td>\n",
              "      <td>jet</td>\n",
              "      <td>satu</td>\n",
              "      <td>bulat</td>\n",
              "      <td>runcing</td>\n",
              "      <td>tabung</td>\n",
              "      <td>posisi tidak ada</td>\n",
              "      <td>tunggal</td>\n",
              "      <td>meruncing kebelakang dan ujung kotak</td>\n",
              "      <td>tidak bersenjata</td>\n",
              "      <td>tidak bahaya</td>\n",
              "    </tr>\n",
              "    <tr>\n",
              "      <th>8</th>\n",
              "      <td>MQ-5B Hunter</td>\n",
              "      <td>atas</td>\n",
              "      <td>tidak ada kemiringan</td>\n",
              "      <td>lurus</td>\n",
              "      <td>lancip rata</td>\n",
              "      <td>baling-baling</td>\n",
              "      <td>dua</td>\n",
              "      <td>bulat</td>\n",
              "      <td>bulat</td>\n",
              "      <td>menonjol</td>\n",
              "      <td>diatas badan</td>\n",
              "      <td>ganda</td>\n",
              "      <td>kebelakang dan ujung tumpul</td>\n",
              "      <td>tidak bersenjata</td>\n",
              "      <td>tidak bahaya</td>\n",
              "    </tr>\n",
              "    <tr>\n",
              "      <th>9</th>\n",
              "      <td>MQ-8 Fire Scout</td>\n",
              "      <td>atas</td>\n",
              "      <td>tidak ada kemiringan</td>\n",
              "      <td>lurus</td>\n",
              "      <td>lancip tidak rata</td>\n",
              "      <td>baling-baling</td>\n",
              "      <td>dua</td>\n",
              "      <td>ramping</td>\n",
              "      <td>bulat</td>\n",
              "      <td>menonjol</td>\n",
              "      <td>diatas badan</td>\n",
              "      <td>tunggal</td>\n",
              "      <td>meruncing kebelakang dan ujung kotak</td>\n",
              "      <td>tidak bersenjata</td>\n",
              "      <td>tidak bahaya</td>\n",
              "    </tr>\n",
              "    <tr>\n",
              "      <th>10</th>\n",
              "      <td>RQ-2 Pioneer</td>\n",
              "      <td>atas</td>\n",
              "      <td>tidak ada kemiringan</td>\n",
              "      <td>lurus</td>\n",
              "      <td>lancip tidak rata</td>\n",
              "      <td>baling-baling</td>\n",
              "      <td>satu</td>\n",
              "      <td>bulat</td>\n",
              "      <td>runcing</td>\n",
              "      <td>menonjol</td>\n",
              "      <td>diatas badan</td>\n",
              "      <td>ganda</td>\n",
              "      <td>lancip rata dan ujung kotak</td>\n",
              "      <td>tidak bersenjata</td>\n",
              "      <td>tidak bahaya</td>\n",
              "    </tr>\n",
              "    <tr>\n",
              "      <th>11</th>\n",
              "      <td>RQ-4B Global Hawk</td>\n",
              "      <td>bawah</td>\n",
              "      <td>positif</td>\n",
              "      <td>kebelakang</td>\n",
              "      <td>lancip kebelakang</td>\n",
              "      <td>turbo</td>\n",
              "      <td>satu</td>\n",
              "      <td>tebal</td>\n",
              "      <td>bulat</td>\n",
              "      <td>menonjol</td>\n",
              "      <td>ditengah badan</td>\n",
              "      <td>empat</td>\n",
              "      <td>meruncing kebelakang dan ujung kotak</td>\n",
              "      <td>tidak bersenjata</td>\n",
              "      <td>tidak bahaya</td>\n",
              "    </tr>\n",
              "    <tr>\n",
              "      <th>12</th>\n",
              "      <td>RQ-7B Shadow</td>\n",
              "      <td>atas</td>\n",
              "      <td>tidak ada kemiringan</td>\n",
              "      <td>lurus</td>\n",
              "      <td>lancip tidak rata</td>\n",
              "      <td>baling-baling</td>\n",
              "      <td>satu</td>\n",
              "      <td>kotak</td>\n",
              "      <td>runcing</td>\n",
              "      <td>menonjol</td>\n",
              "      <td>diatas badan</td>\n",
              "      <td>ganda</td>\n",
              "      <td>sirip tidak ada</td>\n",
              "      <td>tidak bersenjata</td>\n",
              "      <td>tidak bahaya</td>\n",
              "    </tr>\n",
              "    <tr>\n",
              "      <th>13</th>\n",
              "      <td>RQ-170 Sentinel</td>\n",
              "      <td>bawah</td>\n",
              "      <td>tidak ada kemiringan</td>\n",
              "      <td>kebelakang</td>\n",
              "      <td>kebelakang dan lancip</td>\n",
              "      <td>turbo</td>\n",
              "      <td>satu</td>\n",
              "      <td>tebal</td>\n",
              "      <td>runcing</td>\n",
              "      <td>menonjol</td>\n",
              "      <td>posisi tidak ada</td>\n",
              "      <td>tunggal</td>\n",
              "      <td>tidak ada</td>\n",
              "      <td>tidak bersenjata</td>\n",
              "      <td>tidak bahaya</td>\n",
              "    </tr>\n",
              "    <tr>\n",
              "      <th>17</th>\n",
              "      <td>SHMEL-1 YAK 061</td>\n",
              "      <td>atas</td>\n",
              "      <td>negatif</td>\n",
              "      <td>lurus</td>\n",
              "      <td>lancip tidak rata</td>\n",
              "      <td>baling-baling</td>\n",
              "      <td>satu</td>\n",
              "      <td>bulat</td>\n",
              "      <td>bulat</td>\n",
              "      <td>tabung</td>\n",
              "      <td>ditengah badan</td>\n",
              "      <td>tiga</td>\n",
              "      <td>bulat</td>\n",
              "      <td>tidak bersenjata</td>\n",
              "      <td>tidak bahaya</td>\n",
              "    </tr>\n",
              "    <tr>\n",
              "      <th>18</th>\n",
              "      <td>MQ-9 Reaper</td>\n",
              "      <td>bawah</td>\n",
              "      <td>positif</td>\n",
              "      <td>lurus</td>\n",
              "      <td>lancip rata</td>\n",
              "      <td>baling-baling</td>\n",
              "      <td>satu</td>\n",
              "      <td>bulat</td>\n",
              "      <td>bulat</td>\n",
              "      <td>menonjol</td>\n",
              "      <td>dibawah badan</td>\n",
              "      <td>ganda</td>\n",
              "      <td>meruncing kebelakang dan ujung kotak</td>\n",
              "      <td>bersenjata</td>\n",
              "      <td>bahaya</td>\n",
              "    </tr>\n",
              "    <tr>\n",
              "      <th>19</th>\n",
              "      <td>MQ-1 Predator</td>\n",
              "      <td>bawah</td>\n",
              "      <td>positif</td>\n",
              "      <td>lurus</td>\n",
              "      <td>lancip rata</td>\n",
              "      <td>baling-baling</td>\n",
              "      <td>satu</td>\n",
              "      <td>bulat</td>\n",
              "      <td>bulat</td>\n",
              "      <td>menonjol</td>\n",
              "      <td>dibawah badan</td>\n",
              "      <td>tiga</td>\n",
              "      <td>sirip tidak ada</td>\n",
              "      <td>bersenjata</td>\n",
              "      <td>bahaya</td>\n",
              "    </tr>\n",
              "  </tbody>\n",
              "</table>\n",
              "</div>\n",
              "      <button class=\"colab-df-convert\" onclick=\"convertToInteractive('df-c964f635-e8cd-4919-9ad9-fd1c0baea2c3')\"\n",
              "              title=\"Convert this dataframe to an interactive table.\"\n",
              "              style=\"display:none;\">\n",
              "        \n",
              "  <svg xmlns=\"http://www.w3.org/2000/svg\" height=\"24px\"viewBox=\"0 0 24 24\"\n",
              "       width=\"24px\">\n",
              "    <path d=\"M0 0h24v24H0V0z\" fill=\"none\"/>\n",
              "    <path d=\"M18.56 5.44l.94 2.06.94-2.06 2.06-.94-2.06-.94-.94-2.06-.94 2.06-2.06.94zm-11 1L8.5 8.5l.94-2.06 2.06-.94-2.06-.94L8.5 2.5l-.94 2.06-2.06.94zm10 10l.94 2.06.94-2.06 2.06-.94-2.06-.94-.94-2.06-.94 2.06-2.06.94z\"/><path d=\"M17.41 7.96l-1.37-1.37c-.4-.4-.92-.59-1.43-.59-.52 0-1.04.2-1.43.59L10.3 9.45l-7.72 7.72c-.78.78-.78 2.05 0 2.83L4 21.41c.39.39.9.59 1.41.59.51 0 1.02-.2 1.41-.59l7.78-7.78 2.81-2.81c.8-.78.8-2.07 0-2.86zM5.41 20L4 18.59l7.72-7.72 1.47 1.35L5.41 20z\"/>\n",
              "  </svg>\n",
              "      </button>\n",
              "      \n",
              "  <style>\n",
              "    .colab-df-container {\n",
              "      display:flex;\n",
              "      flex-wrap:wrap;\n",
              "      gap: 12px;\n",
              "    }\n",
              "\n",
              "    .colab-df-convert {\n",
              "      background-color: #E8F0FE;\n",
              "      border: none;\n",
              "      border-radius: 50%;\n",
              "      cursor: pointer;\n",
              "      display: none;\n",
              "      fill: #1967D2;\n",
              "      height: 32px;\n",
              "      padding: 0 0 0 0;\n",
              "      width: 32px;\n",
              "    }\n",
              "\n",
              "    .colab-df-convert:hover {\n",
              "      background-color: #E2EBFA;\n",
              "      box-shadow: 0px 1px 2px rgba(60, 64, 67, 0.3), 0px 1px 3px 1px rgba(60, 64, 67, 0.15);\n",
              "      fill: #174EA6;\n",
              "    }\n",
              "\n",
              "    [theme=dark] .colab-df-convert {\n",
              "      background-color: #3B4455;\n",
              "      fill: #D2E3FC;\n",
              "    }\n",
              "\n",
              "    [theme=dark] .colab-df-convert:hover {\n",
              "      background-color: #434B5C;\n",
              "      box-shadow: 0px 1px 3px 1px rgba(0, 0, 0, 0.15);\n",
              "      filter: drop-shadow(0px 1px 2px rgba(0, 0, 0, 0.3));\n",
              "      fill: #FFFFFF;\n",
              "    }\n",
              "  </style>\n",
              "\n",
              "      <script>\n",
              "        const buttonEl =\n",
              "          document.querySelector('#df-c964f635-e8cd-4919-9ad9-fd1c0baea2c3 button.colab-df-convert');\n",
              "        buttonEl.style.display =\n",
              "          google.colab.kernel.accessAllowed ? 'block' : 'none';\n",
              "\n",
              "        async function convertToInteractive(key) {\n",
              "          const element = document.querySelector('#df-c964f635-e8cd-4919-9ad9-fd1c0baea2c3');\n",
              "          const dataTable =\n",
              "            await google.colab.kernel.invokeFunction('convertToInteractive',\n",
              "                                                     [key], {});\n",
              "          if (!dataTable) return;\n",
              "\n",
              "          const docLinkHtml = 'Like what you see? Visit the ' +\n",
              "            '<a target=\"_blank\" href=https://colab.research.google.com/notebooks/data_table.ipynb>data table notebook</a>'\n",
              "            + ' to learn more about interactive tables.';\n",
              "          element.innerHTML = '';\n",
              "          dataTable['output_type'] = 'display_data';\n",
              "          await google.colab.output.renderOutput(dataTable, element);\n",
              "          const docLink = document.createElement('div');\n",
              "          docLink.innerHTML = docLinkHtml;\n",
              "          element.appendChild(docLink);\n",
              "        }\n",
              "      </script>\n",
              "    </div>\n",
              "  </div>\n",
              "  "
            ]
          },
          "metadata": {},
          "execution_count": 12
        }
      ]
    },
    {
      "cell_type": "code",
      "source": [
        "liat_ini = liat"
      ],
      "metadata": {
        "id": "9FOxEFmBBE2I"
      },
      "execution_count": 14,
      "outputs": []
    },
    {
      "cell_type": "code",
      "source": [
        "liat_ini.Persenjataan.replace({'tidak bersenjata':0, 'bersenjata':1}, inplace=True)"
      ],
      "metadata": {
        "id": "sJZtz3hpGkAB"
      },
      "execution_count": 15,
      "outputs": []
    },
    {
      "cell_type": "code",
      "source": [
        "liat_ini.Persenjataan.unique()"
      ],
      "metadata": {
        "colab": {
          "base_uri": "https://localhost:8080/"
        },
        "id": "JCMG6gKFGkDg",
        "outputId": "a5a3a7d5-ad60-4c94-e70b-d29c5bb53b64"
      },
      "execution_count": 16,
      "outputs": [
        {
          "output_type": "execute_result",
          "data": {
            "text/plain": [
              "array([0, 1])"
            ]
          },
          "metadata": {},
          "execution_count": 16
        }
      ]
    },
    {
      "cell_type": "code",
      "source": [
        "Xfeatures = liat_ini['Nama PTTA']"
      ],
      "metadata": {
        "id": "8iWxtDBIHeAc"
      },
      "execution_count": 17,
      "outputs": []
    },
    {
      "cell_type": "code",
      "source": [
        "cv = CountVectorizer()\n",
        "X = cv.fit_transform(Xfeatures)"
      ],
      "metadata": {
        "id": "u_I-3TvTGkHc"
      },
      "execution_count": 18,
      "outputs": []
    },
    {
      "cell_type": "code",
      "source": [
        "cv.get_feature_names_out()"
      ],
      "metadata": {
        "colab": {
          "base_uri": "https://localhost:8080/"
        },
        "id": "krQMPCMRHeEF",
        "outputId": "10fcebae-8501-4f54-c088-b7a3bdc54f6a"
      },
      "execution_count": 23,
      "outputs": [
        {
          "output_type": "execute_result",
          "data": {
            "text/plain": [
              "array(['061', '100', '170', '26', '324', '410', '4b', '5b', '7b',\n",
              "       'banshee', 'brevel', 'btt', 'crecerelle', 'fire', 'global', 'hawk',\n",
              "       'hunter', 'meteor', 'mirach', 'model', 'mq', 'npu', 'pioneer',\n",
              "       'predator', 'reaper', 'rq', 'scarab', 'scout', 'sentinel',\n",
              "       'shadow', 'shmel', 'yak'], dtype=object)"
            ]
          },
          "metadata": {},
          "execution_count": 23
        }
      ]
    },
    {
      "cell_type": "code",
      "source": [
        "from sklearn.model_selection import train_test_split"
      ],
      "metadata": {
        "id": "saP75EzzHeHf"
      },
      "execution_count": 24,
      "outputs": []
    },
    {
      "cell_type": "code",
      "source": [
        "X\n",
        "y = liat_ini.Persenjataan"
      ],
      "metadata": {
        "id": "c38vOiggGkiR"
      },
      "execution_count": 29,
      "outputs": []
    },
    {
      "cell_type": "code",
      "source": [
        "X_train, X_test, y_train, y_test = train_test_split(X, y, test_size=0.10)"
      ],
      "metadata": {
        "id": "bBOo450ULDyp"
      },
      "execution_count": 30,
      "outputs": []
    },
    {
      "cell_type": "code",
      "source": [
        "from sklearn.naive_bayes import MultinomialNB\n",
        "clf = MultinomialNB()\n",
        "clf.fit(X_train,y_train)\n",
        "clf.score(X_test,y_test)"
      ],
      "metadata": {
        "colab": {
          "base_uri": "https://localhost:8080/"
        },
        "id": "vLlj3lHvLD1s",
        "outputId": "72659ed7-d759-48b9-ada4-05de8f14b948"
      },
      "execution_count": 32,
      "outputs": [
        {
          "output_type": "execute_result",
          "data": {
            "text/plain": [
              "0.5"
            ]
          },
          "metadata": {},
          "execution_count": 32
        }
      ]
    },
    {
      "cell_type": "code",
      "source": [
        "print(\"Accuracy of Model\",clf.score(X_train,y_train)*100,\"%\")"
      ],
      "metadata": {
        "colab": {
          "base_uri": "https://localhost:8080/"
        },
        "id": "dP4QZjmnLD5p",
        "outputId": "9e460a22-7ea7-4970-ddf2-8967a7d53a79"
      },
      "execution_count": 36,
      "outputs": [
        {
          "output_type": "stream",
          "name": "stdout",
          "text": [
            "Accuracy of Model 100.0 %\n"
          ]
        }
      ]
    },
    {
      "cell_type": "code",
      "source": [
        "print(classification_report(y_test, y_test))"
      ],
      "metadata": {
        "id": "-YSo-32PYoRj",
        "outputId": "fe87dd26-94a2-4a7f-d1e7-20828f7b2ed1",
        "colab": {
          "base_uri": "https://localhost:8080/"
        }
      },
      "execution_count": 48,
      "outputs": [
        {
          "output_type": "stream",
          "name": "stdout",
          "text": [
            "              precision    recall  f1-score   support\n",
            "\n",
            "           0       1.00      1.00      1.00         2\n",
            "\n",
            "    accuracy                           1.00         2\n",
            "   macro avg       1.00      1.00      1.00         2\n",
            "weighted avg       1.00      1.00      1.00         2\n",
            "\n"
          ]
        }
      ]
    },
    {
      "cell_type": "code",
      "source": [
        "print(classification_report(y_train, y_train))"
      ],
      "metadata": {
        "id": "7c0XfVQ2cGk6",
        "outputId": "5924724f-5db8-487f-93c0-aaad6de43f0e",
        "colab": {
          "base_uri": "https://localhost:8080/"
        }
      },
      "execution_count": 49,
      "outputs": [
        {
          "output_type": "stream",
          "name": "stdout",
          "text": [
            "              precision    recall  f1-score   support\n",
            "\n",
            "           0       1.00      1.00      1.00        13\n",
            "           1       1.00      1.00      1.00         2\n",
            "\n",
            "    accuracy                           1.00        15\n",
            "   macro avg       1.00      1.00      1.00        15\n",
            "weighted avg       1.00      1.00      1.00        15\n",
            "\n"
          ]
        }
      ]
    }
  ]
}