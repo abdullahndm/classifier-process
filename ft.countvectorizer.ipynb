{
  "nbformat": 4,
  "nbformat_minor": 0,
  "metadata": {
    "colab": {
      "name": "Untitled38.ipynb",
      "provenance": [],
      "authorship_tag": "ABX9TyM3iEveomsK25Y0b+4BXIk+",
      "include_colab_link": true
    },
    "kernelspec": {
      "name": "python3",
      "display_name": "Python 3"
    },
    "language_info": {
      "name": "python"
    }
  },
  "cells": [
    {
      "cell_type": "markdown",
      "metadata": {
        "id": "view-in-github",
        "colab_type": "text"
      },
      "source": [
        "<a href=\"https://colab.research.google.com/github/abdullahndm/classifier-process/blob/main/ft.countvectorizer.ipynb\" target=\"_parent\"><img src=\"https://colab.research.google.com/assets/colab-badge.svg\" alt=\"Open In Colab\"/></a>"
      ]
    },
    {
      "cell_type": "code",
      "execution_count": 4,
      "metadata": {
        "id": "0zNroWPjlCwS"
      },
      "outputs": [],
      "source": [
        "from sklearn.feature_extraction.text import CountVectorizer"
      ]
    },
    {
      "cell_type": "code",
      "source": [
        "corpus = [ 'Posisi ATAS Kemiringan TIDAK ADA KEMIRINGAN Bentuk LURUS Arah LANCIP RATA', \n",
        "          'Jenis TURBO Jumlah SATU', \n",
        "          'Bentuk KOTAK Hidung RUNCING Tengah TABUNG', \n",
        "          'Posisi DIATAS BADAN Jumlah GANDA Bentuk MERUNCING KEBELAKANG DAN UJUNG KOTAK',]"
      ],
      "metadata": {
        "id": "f_FIjvh6y7cp"
      },
      "execution_count": 5,
      "outputs": []
    },
    {
      "cell_type": "code",
      "source": [
        "vectorizer = CountVectorizer()"
      ],
      "metadata": {
        "id": "zW18254Xfqwk"
      },
      "execution_count": 6,
      "outputs": []
    },
    {
      "cell_type": "code",
      "source": [
        "X = vectorizer.fit_transform(corpus)"
      ],
      "metadata": {
        "id": "e1OOOdU6f2Iz"
      },
      "execution_count": 7,
      "outputs": []
    },
    {
      "cell_type": "code",
      "source": [
        "vectorizer.get_feature_names_out()"
      ],
      "metadata": {
        "id": "VCSl6ssTf2Ms",
        "outputId": "eecb13d2-81a1-4e70-85d1-c77aaf2cf223",
        "colab": {
          "base_uri": "https://localhost:8080/"
        }
      },
      "execution_count": 8,
      "outputs": [
        {
          "output_type": "execute_result",
          "data": {
            "text/plain": [
              "array(['ada', 'arah', 'atas', 'badan', 'bentuk', 'dan', 'diatas', 'ganda',\n",
              "       'hidung', 'jenis', 'jumlah', 'kebelakang', 'kemiringan', 'kotak',\n",
              "       'lancip', 'lurus', 'meruncing', 'posisi', 'rata', 'runcing',\n",
              "       'satu', 'tabung', 'tengah', 'tidak', 'turbo', 'ujung'],\n",
              "      dtype=object)"
            ]
          },
          "metadata": {},
          "execution_count": 8
        }
      ]
    },
    {
      "cell_type": "code",
      "source": [
        "print(X.toarray())"
      ],
      "metadata": {
        "id": "6NCp-Er4f2TH",
        "outputId": "77f15d57-cb45-41a8-cc04-0a571a5183b0",
        "colab": {
          "base_uri": "https://localhost:8080/"
        }
      },
      "execution_count": 9,
      "outputs": [
        {
          "output_type": "stream",
          "name": "stdout",
          "text": [
            "[[1 1 1 0 1 0 0 0 0 0 0 0 2 0 1 1 0 1 1 0 0 0 0 1 0 0]\n",
            " [0 0 0 0 0 0 0 0 0 1 1 0 0 0 0 0 0 0 0 0 1 0 0 0 1 0]\n",
            " [0 0 0 0 1 0 0 0 1 0 0 0 0 1 0 0 0 0 0 1 0 1 1 0 0 0]\n",
            " [0 0 0 1 1 1 1 1 0 0 1 1 0 1 0 0 1 1 0 0 0 0 0 0 0 1]]\n"
          ]
        }
      ]
    }
  ]
}